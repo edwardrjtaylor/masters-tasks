{
 "cells": [
  {
   "cell_type": "code",
   "execution_count": 8,
   "metadata": {},
   "outputs": [
    {
     "ename": "NameError",
     "evalue": "name 'folder' is not defined",
     "output_type": "error",
     "traceback": [
      "\u001b[0;31m---------------------------------------------------------------------------\u001b[0m",
      "\u001b[0;31mNameError\u001b[0m                                 Traceback (most recent call last)",
      "\u001b[0;32m<ipython-input-8-6af9971c1983>\u001b[0m in \u001b[0;36m<module>\u001b[0;34m\u001b[0m\n\u001b[1;32m      2\u001b[0m \u001b[0;32mimport\u001b[0m \u001b[0mmatplotlib\u001b[0m\u001b[0;34m.\u001b[0m\u001b[0mpyplot\u001b[0m \u001b[0;32mas\u001b[0m \u001b[0mplt\u001b[0m\u001b[0;34m\u001b[0m\u001b[0;34m\u001b[0m\u001b[0m\n\u001b[1;32m      3\u001b[0m \u001b[0;32mimport\u001b[0m \u001b[0mnumpy\u001b[0m \u001b[0;32mas\u001b[0m \u001b[0mnp\u001b[0m\u001b[0;34m\u001b[0m\u001b[0;34m\u001b[0m\u001b[0m\n\u001b[0;32m----> 4\u001b[0;31m \u001b[0;32mimport\u001b[0m \u001b[0mLASSENA_Readout\u001b[0m \u001b[0;32mas\u001b[0m \u001b[0mLAS\u001b[0m\u001b[0;34m\u001b[0m\u001b[0;34m\u001b[0m\u001b[0m\n\u001b[0m\u001b[1;32m      5\u001b[0m \u001b[0;32mimport\u001b[0m \u001b[0mHoughTransform\u001b[0m \u001b[0;32mas\u001b[0m \u001b[0mHT\u001b[0m\u001b[0;34m\u001b[0m\u001b[0;34m\u001b[0m\u001b[0m\n\u001b[1;32m      6\u001b[0m \u001b[0mdata\u001b[0m\u001b[0;34m,\u001b[0m \u001b[0mdark\u001b[0m\u001b[0;34m,\u001b[0m \u001b[0mOnCheck\u001b[0m\u001b[0;34m,\u001b[0m \u001b[0mMyst\u001b[0m \u001b[0;34m=\u001b[0m \u001b[0mLAS\u001b[0m\u001b[0;34m.\u001b[0m\u001b[0mget_data_loc\u001b[0m\u001b[0;34m(\u001b[0m\u001b[0mfolder\u001b[0m\u001b[0;34m)\u001b[0m\u001b[0;34m\u001b[0m\u001b[0;34m\u001b[0m\u001b[0m\n",
      "\u001b[0;32m~/Year 4 Project/LASSENA_Readout.py\u001b[0m in \u001b[0;36m<module>\u001b[0;34m\u001b[0m\n\u001b[1;32m    121\u001b[0m \u001b[0;34m\u001b[0m\u001b[0m\n\u001b[1;32m    122\u001b[0m \u001b[0;34m\u001b[0m\u001b[0m\n\u001b[0;32m--> 123\u001b[0;31m \u001b[0;32mdef\u001b[0m \u001b[0mget_numbers\u001b[0m\u001b[0;34m(\u001b[0m\u001b[0mdata_set\u001b[0m\u001b[0;34m,\u001b[0m\u001b[0mfile_info\u001b[0m\u001b[0;34m=\u001b[0m\u001b[0;34m'pA_2x2cm_col'\u001b[0m\u001b[0;34m,\u001b[0m\u001b[0mpath\u001b[0m\u001b[0;34m=\u001b[0m\u001b[0mfolder\u001b[0m\u001b[0;34m,\u001b[0m\u001b[0mdate\u001b[0m\u001b[0;34m=\u001b[0m\u001b[0;34m'100220'\u001b[0m\u001b[0;34m,\u001b[0m\u001b[0mfiletype\u001b[0m\u001b[0;34m=\u001b[0m\u001b[0;34m'.tiff'\u001b[0m\u001b[0;34m)\u001b[0m\u001b[0;34m:\u001b[0m\u001b[0;34m\u001b[0m\u001b[0;34m\u001b[0m\u001b[0m\n\u001b[0m\u001b[1;32m    124\u001b[0m     \u001b[0mcurrents\u001b[0m \u001b[0;34m=\u001b[0m \u001b[0;34m[\u001b[0m\u001b[0;36m0\u001b[0m\u001b[0;34m]\u001b[0m\u001b[0;34m\u001b[0m\u001b[0;34m\u001b[0m\u001b[0m\n\u001b[1;32m    125\u001b[0m     \u001b[0;32mfor\u001b[0m \u001b[0mdata\u001b[0m \u001b[0;32min\u001b[0m \u001b[0mdata_set\u001b[0m\u001b[0;34m:\u001b[0m\u001b[0;34m\u001b[0m\u001b[0;34m\u001b[0m\u001b[0m\n",
      "\u001b[0;31mNameError\u001b[0m: name 'folder' is not defined"
     ]
    }
   ],
   "source": [
    "folder = 'LASSENA_SECONDARIES/'\n",
    "import matplotlib.pyplot as plt\n",
    "import numpy as np\n",
    "import LASSENA_Readout as LAS\n",
    "import HoughTransform as HT\n",
    "data, dark, OnCheck, Myst = LAS.get_data_loc(folder)"
   ]
  },
  {
   "cell_type": "code",
   "execution_count": 5,
   "metadata": {},
   "outputs": [
    {
     "ename": "NameError",
     "evalue": "name 'LAS' is not defined",
     "output_type": "error",
     "traceback": [
      "\u001b[0;31m---------------------------------------------------------------------------\u001b[0m",
      "\u001b[0;31mNameError\u001b[0m                                 Traceback (most recent call last)",
      "\u001b[0;32m<ipython-input-5-10d9c7e7aed0>\u001b[0m in \u001b[0;36m<module>\u001b[0;34m\u001b[0m\n\u001b[0;32m----> 1\u001b[0;31m \u001b[0mdark_image\u001b[0m \u001b[0;34m=\u001b[0m \u001b[0mLAS\u001b[0m\u001b[0;34m.\u001b[0m\u001b[0mavg_bunch\u001b[0m\u001b[0;34m(\u001b[0m\u001b[0mdark\u001b[0m\u001b[0;34m)\u001b[0m\u001b[0;34m\u001b[0m\u001b[0;34m\u001b[0m\u001b[0m\n\u001b[0m\u001b[1;32m      2\u001b[0m \u001b[0mimg_for_roi\u001b[0m \u001b[0;34m=\u001b[0m \u001b[0mdark_image\u001b[0m\u001b[0;34m-\u001b[0m\u001b[0mLAS\u001b[0m\u001b[0;34m.\u001b[0m\u001b[0mavg_bunch\u001b[0m\u001b[0;34m(\u001b[0m\u001b[0mdata\u001b[0m\u001b[0;34m[\u001b[0m\u001b[0mNEED_TO_SPECIFY\u001b[0m\u001b[0;34m]\u001b[0m\u001b[0;34m)\u001b[0m\u001b[0;34m\u001b[0m\u001b[0;34m\u001b[0m\u001b[0m\n\u001b[1;32m      3\u001b[0m \u001b[0;31m#dataset with high current for averaging to find ROI\u001b[0m\u001b[0;34m\u001b[0m\u001b[0;34m\u001b[0m\u001b[0;34m\u001b[0m\u001b[0m\n\u001b[1;32m      4\u001b[0m \u001b[0mROI_pts\u001b[0m \u001b[0;34m=\u001b[0m \u001b[0mHT\u001b[0m\u001b[0;34m.\u001b[0m\u001b[0mcross_points\u001b[0m\u001b[0;34m(\u001b[0m\u001b[0mimg_for_roi\u001b[0m\u001b[0;34m,\u001b[0m\u001b[0mHT\u001b[0m\u001b[0;34m.\u001b[0m\u001b[0mhough_grid\u001b[0m\u001b[0;34m(\u001b[0m\u001b[0mimg_for_roi\u001b[0m\u001b[0;34m)\u001b[0m\u001b[0;34m)\u001b[0m\u001b[0;34m\u001b[0m\u001b[0;34m\u001b[0m\u001b[0m\n",
      "\u001b[0;31mNameError\u001b[0m: name 'LAS' is not defined"
     ]
    }
   ],
   "source": [
    "dark_image = LAS.avg_bunch(dark)\n",
    "img_for_roi = dark_image-LAS.avg_bunch(data[NEED_TO_SPECIFY]) \n",
    "#dataset with high current for averaging to find ROI \n",
    "ROI_pts = HT.cross_points(img_for_roi,HT.hough_grid(img_for_roi))"
   ]
  },
  {
   "cell_type": "code",
   "execution_count": 6,
   "metadata": {},
   "outputs": [
    {
     "ename": "NameError",
     "evalue": "name 'LAS' is not defined",
     "output_type": "error",
     "traceback": [
      "\u001b[0;31m---------------------------------------------------------------------------\u001b[0m",
      "\u001b[0;31mNameError\u001b[0m                                 Traceback (most recent call last)",
      "\u001b[0;32m<ipython-input-6-62ff53984c6f>\u001b[0m in \u001b[0;36m<module>\u001b[0;34m\u001b[0m\n\u001b[1;32m      1\u001b[0m \u001b[0;31m#need to average dataset to create average image\u001b[0m\u001b[0;34m\u001b[0m\u001b[0;34m\u001b[0m\u001b[0;34m\u001b[0m\u001b[0m\n\u001b[1;32m      2\u001b[0m \u001b[0;31m#need to use get_image_dose\u001b[0m\u001b[0;34m\u001b[0m\u001b[0;34m\u001b[0m\u001b[0;34m\u001b[0m\u001b[0m\n\u001b[0;32m----> 3\u001b[0;31m \u001b[0mavg_img\u001b[0m \u001b[0;34m=\u001b[0m \u001b[0mLAS\u001b[0m\u001b[0;34m.\u001b[0m\u001b[0mdark_remov_avg\u001b[0m\u001b[0;34m(\u001b[0m\u001b[0mdata\u001b[0m\u001b[0;34m,\u001b[0m\u001b[0mdark_image\u001b[0m\u001b[0;34m)\u001b[0m\u001b[0;34m\u001b[0m\u001b[0;34m\u001b[0m\u001b[0m\n\u001b[0m\u001b[1;32m      4\u001b[0m \u001b[0mavg_dose\u001b[0m \u001b[0;34m=\u001b[0m \u001b[0mLAS\u001b[0m\u001b[0;34m.\u001b[0m\u001b[0mget_image_dose\u001b[0m\u001b[0;34m(\u001b[0m\u001b[0mavg\u001b[0m\u001b[0;34m)\u001b[0m\u001b[0;34m\u001b[0m\u001b[0;34m\u001b[0m\u001b[0m\n",
      "\u001b[0;31mNameError\u001b[0m: name 'LAS' is not defined"
     ]
    }
   ],
   "source": [
    "#need to average dataset to create average image\n",
    "#need to use get_image_dose\n",
    "avg_img = LAS.dark_remov_avg(data,dark_image)\n",
    "avg_dose = LAS.get_image_dose(avg)"
   ]
  },
  {
   "cell_type": "code",
   "execution_count": null,
   "metadata": {},
   "outputs": [],
   "source": []
  }
 ],
 "metadata": {
  "kernelspec": {
   "display_name": "Python 3",
   "language": "python",
   "name": "python3"
  },
  "language_info": {
   "codemirror_mode": {
    "name": "ipython",
    "version": 3
   },
   "file_extension": ".py",
   "mimetype": "text/x-python",
   "name": "python",
   "nbconvert_exporter": "python",
   "pygments_lexer": "ipython3",
   "version": "3.7.6"
  }
 },
 "nbformat": 4,
 "nbformat_minor": 4
}

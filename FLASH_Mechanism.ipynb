{
 "cells": [
  {
   "cell_type": "code",
   "execution_count": 7,
   "metadata": {},
   "outputs": [
    {
     "ename": "NameError",
     "evalue": "name 'folder' is not defined",
     "output_type": "error",
     "traceback": [
      "\u001b[0;31m---------------------------------------------------------------------------\u001b[0m",
      "\u001b[0;31mNameError\u001b[0m                                 Traceback (most recent call last)",
      "\u001b[0;32m<ipython-input-7-6a62b848c571>\u001b[0m in \u001b[0;36m<module>\u001b[0;34m\u001b[0m\n\u001b[1;32m      1\u001b[0m \u001b[0;32mimport\u001b[0m \u001b[0mmatplotlib\u001b[0m\u001b[0;34m.\u001b[0m\u001b[0mpyplot\u001b[0m \u001b[0;32mas\u001b[0m \u001b[0mplt\u001b[0m\u001b[0;34m\u001b[0m\u001b[0;34m\u001b[0m\u001b[0m\n\u001b[0;32m----> 2\u001b[0;31m \u001b[0;32mfrom\u001b[0m \u001b[0mLASSENA_Readout\u001b[0m \u001b[0;32mimport\u001b[0m \u001b[0mLAS\u001b[0m\u001b[0;34m\u001b[0m\u001b[0;34m\u001b[0m\u001b[0m\n\u001b[0m\u001b[1;32m      3\u001b[0m \u001b[0mLAS\u001b[0m\u001b[0;34m.\u001b[0m\u001b[0mfolder\u001b[0m \u001b[0;34m=\u001b[0m \u001b[0;34m'LASSENA_FLASH_time/'\u001b[0m\u001b[0;34m\u001b[0m\u001b[0;34m\u001b[0m\u001b[0m\n\u001b[1;32m      4\u001b[0m \u001b[0;32mfrom\u001b[0m \u001b[0mHoughTransform\u001b[0m \u001b[0;32mimport\u001b[0m \u001b[0mHT\u001b[0m\u001b[0;34m\u001b[0m\u001b[0;34m\u001b[0m\u001b[0m\n\u001b[1;32m      5\u001b[0m \u001b[0mdata\u001b[0m\u001b[0;34m,\u001b[0m \u001b[0mdark\u001b[0m\u001b[0;34m,\u001b[0m \u001b[0mOnCheck\u001b[0m\u001b[0;34m,\u001b[0m \u001b[0mMyst\u001b[0m \u001b[0;34m=\u001b[0m \u001b[0mLAS\u001b[0m\u001b[0;34m.\u001b[0m\u001b[0mget_data_loc\u001b[0m\u001b[0;34m(\u001b[0m\u001b[0mfolder\u001b[0m\u001b[0;34m)\u001b[0m\u001b[0;34m\u001b[0m\u001b[0;34m\u001b[0m\u001b[0m\n",
      "\u001b[0;32m~/Year 4 Project/LASSENA_Readout.py\u001b[0m in \u001b[0;36m<module>\u001b[0;34m\u001b[0m\n\u001b[1;32m    121\u001b[0m \u001b[0;34m\u001b[0m\u001b[0m\n\u001b[1;32m    122\u001b[0m \u001b[0;34m\u001b[0m\u001b[0m\n\u001b[0;32m--> 123\u001b[0;31m \u001b[0;32mdef\u001b[0m \u001b[0mget_numbers\u001b[0m\u001b[0;34m(\u001b[0m\u001b[0mdata_set\u001b[0m\u001b[0;34m,\u001b[0m\u001b[0mfile_info\u001b[0m\u001b[0;34m=\u001b[0m\u001b[0;34m'pA_2x2cm_col'\u001b[0m\u001b[0;34m,\u001b[0m\u001b[0mpath\u001b[0m\u001b[0;34m=\u001b[0m\u001b[0mfolder\u001b[0m\u001b[0;34m,\u001b[0m\u001b[0mdate\u001b[0m\u001b[0;34m=\u001b[0m\u001b[0;34m'100220'\u001b[0m\u001b[0;34m,\u001b[0m\u001b[0mfiletype\u001b[0m\u001b[0;34m=\u001b[0m\u001b[0;34m'.tiff'\u001b[0m\u001b[0;34m)\u001b[0m\u001b[0;34m:\u001b[0m\u001b[0;34m\u001b[0m\u001b[0;34m\u001b[0m\u001b[0m\n\u001b[0m\u001b[1;32m    124\u001b[0m     \u001b[0mcurrents\u001b[0m \u001b[0;34m=\u001b[0m \u001b[0;34m[\u001b[0m\u001b[0;36m0\u001b[0m\u001b[0;34m]\u001b[0m\u001b[0;34m\u001b[0m\u001b[0;34m\u001b[0m\u001b[0m\n\u001b[1;32m    125\u001b[0m     \u001b[0;32mfor\u001b[0m \u001b[0mdata\u001b[0m \u001b[0;32min\u001b[0m \u001b[0mdata_set\u001b[0m\u001b[0;34m:\u001b[0m\u001b[0;34m\u001b[0m\u001b[0;34m\u001b[0m\u001b[0m\n",
      "\u001b[0;31mNameError\u001b[0m: name 'folder' is not defined"
     ]
    }
   ],
   "source": [
    "import matplotlib.pyplot as plt\n",
    "from LASSENA_Readout import LAS\n",
    "folder = 'LASSENA_FLASH_time/'\n",
    "from HoughTransform import HT\n",
    "data, dark, OnCheck, Myst = LAS.get_data_loc(folder)"
   ]
  },
  {
   "cell_type": "code",
   "execution_count": 4,
   "metadata": {},
   "outputs": [
    {
     "ename": "SyntaxError",
     "evalue": "invalid syntax (<ipython-input-4-9207e4e9ecb1>, line 2)",
     "output_type": "error",
     "traceback": [
      "\u001b[0;36m  File \u001b[0;32m\"<ipython-input-4-9207e4e9ecb1>\"\u001b[0;36m, line \u001b[0;32m2\u001b[0m\n\u001b[0;31m    img_for_roi = dark_start-LAS.avg_bunch(data[NEED TO SPECIFY])\u001b[0m\n\u001b[0m                                                      ^\u001b[0m\n\u001b[0;31mSyntaxError\u001b[0m\u001b[0;31m:\u001b[0m invalid syntax\n"
     ]
    }
   ],
   "source": [
    "dark_image = LAS.avg_bunch(dark)\n",
    "img_for_roi = dark_image-LAS.avg_bunch(data[NEED_TO_SPECIFY]) \n",
    "#dataset with high current for finding ROI \n",
    "ROI_pts = HT.cross_points(img_for_roi,HT.hough_grid(img_for_roi))"
   ]
  },
  {
   "cell_type": "code",
   "execution_count": 8,
   "metadata": {},
   "outputs": [],
   "source": [
    "#assume ROI the same for each image\n",
    "#assume dark image is the same\n",
    "#give list of string filenames\n",
    "#going to have to know roughly which one is the FLASH frame\n",
    "def get_FLASH_time(data,ROI_pts,dark_img,integration_time): \n",
    "    images = get_images(data) #get images from data locations\n",
    "    warped_images = [HT.four_point_transform(image,ROI_pts) for image in images] #warp each image to consider only defined ROI\n",
    "    ROI_averages = [LAS.avg_img(warped_image) for warped_image in warped_images] #calculate avg PV in ROI for each image\n",
    "    [data.pop(ROI_averages.index(avg)) for avg in ROI_averages if avg<=LAS.avg_img(dark_img)]#remove any dark frames\n",
    "    FLASH_frame_num = np.argmin(ROI_averages) #find smallest frame PV average in ROI = where we have FLASH frame\n",
    "    FLASH_frame_AVG_PV_ROI = LAS.get_pv(data[FLASH_frame_num],ROI_pts,dark_img) #get FLASH frame avg PV in ROI\n",
    "    other_data = data.pop(FLASH_frame_num) #remove FLASH frame from data\n",
    "    other_frames_AVG_PV_ROI = LAS.get_pv(other_data,ROI_pts,dark_img) #get other avg PV in ROI\n",
    "    FLASH_time = (FLASH_frame_AVG_PV_ROI/other_frames_AVG_PV_ROI)*integration_time #get FLASH time\n",
    "    return FLASH_time"
   ]
  },
  {
   "cell_type": "code",
   "execution_count": null,
   "metadata": {},
   "outputs": [],
   "source": [
    "FLASH_times = [get_FLASH_time(datafolder) for datafolder in data]\n",
    "print(np.mean(FLASH_times))\n",
    "print(np.std(FLASH_times))"
   ]
  }
 ],
 "metadata": {
  "kernelspec": {
   "display_name": "Python 3",
   "language": "python",
   "name": "python3"
  },
  "language_info": {
   "codemirror_mode": {
    "name": "ipython",
    "version": 3
   },
   "file_extension": ".py",
   "mimetype": "text/x-python",
   "name": "python",
   "nbconvert_exporter": "python",
   "pygments_lexer": "ipython3",
   "version": "3.7.6"
  }
 },
 "nbformat": 4,
 "nbformat_minor": 4
}

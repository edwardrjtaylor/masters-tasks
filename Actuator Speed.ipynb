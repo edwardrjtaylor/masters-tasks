{
 "cells": [
  {
   "cell_type": "code",
   "execution_count": 28,
   "metadata": {},
   "outputs": [],
   "source": [
    "import os\n",
    "import numpy as np\n",
    "import matplotlib.pyplot as plt\n",
    "params = {'legend.fontsize': '22',\n",
    "          'figure.figsize': (10, 8),\n",
    "         'axes.labelsize': '22',\n",
    "         'axes.titlesize':'22',\n",
    "         'xtick.labelsize':'22',\n",
    "         'ytick.labelsize':'22'}\n",
    "plt.rcParams.update(params)\n",
    "FOLDER = r'Actuator Speed'\n",
    "COL_NAMES = ['Transit Time/s', 'Input duration/s', 'Frequency/Hz','Duty cycle']\n",
    "LINES_TO_SKIP = -1\n",
    "\n",
    "def read_csv_files_in_folder(folder_name):\n",
    "    \"\"\" Read all CSV files in a folder\n",
    "\n",
    "\n",
    "    Parameters\n",
    "    ----------\n",
    "\n",
    "    folder_name: string\n",
    "        folder name including path\n",
    "\n",
    "    Returns\n",
    "    -------\n",
    "    data: array of floats\n",
    "        data read from all the files in the folder (3d array)\n",
    "        data[:,:,k] is the data from file k\n",
    "    \"\"\"\n",
    "\n",
    "    # TODO: Assignment Task 2: write function body\n",
    "    folder_name = os.listdir(FOLDER)\n",
    "    for idx, fn in enumerate(folder_name): #puts data in 3d stepping through file\n",
    "        file_path = (FOLDER + os.sep + fn)\n",
    "        a = np.genfromtxt(file_path, dtype = float,delimiter=',', skip_header=1)#finds the commas and skips title row\n",
    "        if idx == 0:\n",
    "            data = np.empty([a.shape[0],a.shape[1], len(folder_name)])\n",
    "        data[:,:, idx] = a\n",
    "    return data\n",
    "\n",
    "b = read_csv_files_in_folder(FOLDER)\n",
    "t = np.array(b[:,0])\n",
    "f = np.array(b[:,2])\n",
    "d = np.array(b[:,3])\n",
    "\n"
   ]
  },
  {
   "cell_type": "code",
   "execution_count": 35,
   "metadata": {},
   "outputs": [
    {
     "data": {
      "text/plain": [
       "[<matplotlib.lines.Line2D at 0x11904be48>]"
      ]
     },
     "execution_count": 35,
     "metadata": {},
     "output_type": "execute_result"
    },
    {
     "data": {
      "image/png": "[encoded data removed]",
      "text/plain": [
       "<Figure size 720x576 with 1 Axes>"
      ]
     },
     "metadata": {
      "needs_background": "light"
     },
     "output_type": "display_data"
    }
   ],
   "source": [
    "plt.plot((1/f),t,'b.')"
   ]
  },
  {
   "cell_type": "code",
   "execution_count": null,
   "metadata": {},
   "outputs": [],
   "source": []
  }
 ],
 "metadata": {
  "kernelspec": {
   "display_name": "Python 3",
   "language": "python",
   "name": "python3"
  },
  "language_info": {
   "codemirror_mode": {
    "name": "ipython",
    "version": 3
   },
   "file_extension": ".py",
   "mimetype": "text/x-python",
   "name": "python",
   "nbconvert_exporter": "python",
   "pygments_lexer": "ipython3",
   "version": "3.7.3"
  }
 },
 "nbformat": 4,
 "nbformat_minor": 2
}
